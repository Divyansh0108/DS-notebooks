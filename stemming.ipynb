{
 "cells": [
  {
   "cell_type": "code",
   "execution_count": 51,
   "metadata": {},
   "outputs": [],
   "source": [
    "corpus=\"\"\"Hi so this will be a trial on NLP's library called NLTK. \n",
    "let's see how it goes.\"\"\""
   ]
  },
  {
   "cell_type": "code",
   "execution_count": 52,
   "metadata": {},
   "outputs": [
    {
     "data": {
      "text/plain": [
       "\"Hi so this will be a trial on NLP's library called NLTK. \\nlet's see how it goes.\""
      ]
     },
     "execution_count": 52,
     "metadata": {},
     "output_type": "execute_result"
    }
   ],
   "source": [
    "corpus"
   ]
  },
  {
   "cell_type": "code",
   "execution_count": 53,
   "metadata": {},
   "outputs": [],
   "source": [
    "## tokenization\n",
    "## sentence to paragraph\n",
    "from nltk.tokenize import sent_tokenize "
   ]
  },
  {
   "cell_type": "code",
   "execution_count": 54,
   "metadata": {},
   "outputs": [],
   "source": [
    "documents = sent_tokenize(corpus)"
   ]
  },
  {
   "cell_type": "code",
   "execution_count": 55,
   "metadata": {},
   "outputs": [
    {
     "data": {
      "text/plain": [
       "['Hi',\n",
       " 'so',\n",
       " 'this',\n",
       " 'will',\n",
       " 'be',\n",
       " 'a',\n",
       " 'trial',\n",
       " 'on',\n",
       " 'NLP',\n",
       " \"'s\",\n",
       " 'library',\n",
       " 'called',\n",
       " 'NLTK',\n",
       " '.',\n",
       " 'let',\n",
       " \"'s\",\n",
       " 'see',\n",
       " 'how',\n",
       " 'it',\n",
       " 'goes',\n",
       " '.']"
      ]
     },
     "execution_count": 55,
     "metadata": {},
     "output_type": "execute_result"
    }
   ],
   "source": [
    "## paragraph or sentence into words\n",
    "from nltk.tokenize import word_tokenize\n",
    "\n",
    "word_tokenize(corpus)"
   ]
  },
  {
   "cell_type": "code",
   "execution_count": 56,
   "metadata": {},
   "outputs": [
    {
     "data": {
      "text/plain": [
       "['Hi',\n",
       " 'so',\n",
       " 'this',\n",
       " 'will',\n",
       " 'be',\n",
       " 'a',\n",
       " 'trial',\n",
       " 'on',\n",
       " 'NLP',\n",
       " \"'\",\n",
       " 's',\n",
       " 'library',\n",
       " 'called',\n",
       " 'NLTK',\n",
       " '.',\n",
       " 'let',\n",
       " \"'\",\n",
       " 's',\n",
       " 'see',\n",
       " 'how',\n",
       " 'it',\n",
       " 'goes',\n",
       " '.']"
      ]
     },
     "execution_count": 56,
     "metadata": {},
     "output_type": "execute_result"
    }
   ],
   "source": [
    "from nltk.tokenize import wordpunct_tokenize\n",
    "wordpunct_tokenize(corpus)"
   ]
  },
  {
   "cell_type": "code",
   "execution_count": 57,
   "metadata": {},
   "outputs": [],
   "source": [
    "from nltk.tokenize import TreebankWordTokenizer"
   ]
  },
  {
   "cell_type": "code",
   "execution_count": 58,
   "metadata": {},
   "outputs": [],
   "source": [
    "tokenizer = TreebankWordTokenizer()"
   ]
  },
  {
   "cell_type": "code",
   "execution_count": 59,
   "metadata": {},
   "outputs": [
    {
     "data": {
      "text/plain": [
       "['Hi',\n",
       " 'so',\n",
       " 'this',\n",
       " 'will',\n",
       " 'be',\n",
       " 'a',\n",
       " 'trial',\n",
       " 'on',\n",
       " 'NLP',\n",
       " \"'s\",\n",
       " 'library',\n",
       " 'called',\n",
       " 'NLTK.',\n",
       " 'let',\n",
       " \"'s\",\n",
       " 'see',\n",
       " 'how',\n",
       " 'it',\n",
       " 'goes',\n",
       " '.']"
      ]
     },
     "execution_count": 59,
     "metadata": {},
     "output_type": "execute_result"
    }
   ],
   "source": [
    "tokenizer.tokenize(corpus)"
   ]
  },
  {
   "cell_type": "code",
   "execution_count": 60,
   "metadata": {},
   "outputs": [],
   "source": [
    "words = [\"programming\", \"programmer\", \"program\", \"programs\", \"programmed\", \"programmatically\", \"writing\", \"writer\", \"writes\", \"written\", \"wrote\", \"writings\", \"eating\", \"eaten\"]"
   ]
  },
  {
   "cell_type": "code",
   "execution_count": 61,
   "metadata": {},
   "outputs": [],
   "source": [
    "from nltk.stem import PorterStemmer"
   ]
  },
  {
   "cell_type": "code",
   "execution_count": 62,
   "metadata": {},
   "outputs": [],
   "source": [
    "Stemmer = PorterStemmer()"
   ]
  },
  {
   "cell_type": "code",
   "execution_count": 63,
   "metadata": {},
   "outputs": [
    {
     "name": "stdout",
     "output_type": "stream",
     "text": [
      "programming : program\n",
      "programmer : programm\n",
      "program : program\n",
      "programs : program\n",
      "programmed : program\n",
      "programmatically : programmat\n",
      "writing : write\n",
      "writer : writer\n",
      "writes : write\n",
      "written : written\n",
      "wrote : wrote\n",
      "writings : write\n",
      "eating : eat\n",
      "eaten : eaten\n"
     ]
    }
   ],
   "source": [
    "for word in words:\n",
    "    print(word+\" : \"+Stemmer.stem(word))"
   ]
  },
  {
   "cell_type": "code",
   "execution_count": 64,
   "metadata": {},
   "outputs": [],
   "source": [
    "from nltk.stem import RegexpStemmer"
   ]
  },
  {
   "cell_type": "code",
   "execution_count": 65,
   "metadata": {},
   "outputs": [],
   "source": [
    "stem = RegexpStemmer('ing$|s$|ed$|er$|en$', min=4)"
   ]
  },
  {
   "cell_type": "code",
   "execution_count": 66,
   "metadata": {},
   "outputs": [
    {
     "name": "stdout",
     "output_type": "stream",
     "text": [
      "programming : programm\n",
      "programmer : programm\n",
      "program : program\n",
      "programs : program\n",
      "programmed : programm\n",
      "programmatically : programmatically\n",
      "writing : writ\n",
      "writer : writ\n",
      "writes : write\n",
      "written : writt\n",
      "wrote : wrote\n",
      "writings : writing\n",
      "eating : eat\n",
      "eaten : eat\n"
     ]
    }
   ],
   "source": [
    "for word in words:\n",
    "    print(word+\" : \"+stem.stem(word))"
   ]
  },
  {
   "cell_type": "code",
   "execution_count": 68,
   "metadata": {},
   "outputs": [],
   "source": [
    "from nltk.stem import snowball"
   ]
  },
  {
   "cell_type": "code",
   "execution_count": 69,
   "metadata": {},
   "outputs": [],
   "source": [
    "stemmer = snowball.SnowballStemmer('english')"
   ]
  },
  {
   "cell_type": "code",
   "execution_count": 70,
   "metadata": {},
   "outputs": [
    {
     "name": "stdout",
     "output_type": "stream",
     "text": [
      "programming : program\n",
      "programmer : programm\n",
      "program : program\n",
      "programs : program\n",
      "programmed : program\n",
      "programmatically : programmat\n",
      "writing : write\n",
      "writer : writer\n",
      "writes : write\n",
      "written : written\n",
      "wrote : wrote\n",
      "writings : write\n",
      "eating : eat\n",
      "eaten : eaten\n"
     ]
    }
   ],
   "source": [
    "for word in words:\n",
    "    print(word+\" : \"+stemmer.stem(word))"
   ]
  }
 ],
 "metadata": {
  "kernelspec": {
   "display_name": "base",
   "language": "python",
   "name": "python3"
  },
  "language_info": {
   "codemirror_mode": {
    "name": "ipython",
    "version": 3
   },
   "file_extension": ".py",
   "mimetype": "text/x-python",
   "name": "python",
   "nbconvert_exporter": "python",
   "pygments_lexer": "ipython3",
   "version": "3.12.4"
  }
 },
 "nbformat": 4,
 "nbformat_minor": 2
}
